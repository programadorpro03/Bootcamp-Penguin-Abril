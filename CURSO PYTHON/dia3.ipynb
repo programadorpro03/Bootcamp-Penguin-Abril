{
 "cells": [
  {
   "cell_type": "markdown",
   "metadata": {},
   "source": [
    "variables"
   ]
  },
  {
   "cell_type": "code",
   "execution_count": null,
   "metadata": {},
   "outputs": [],
   "source": [
    "Palabra = \"calor\"\n",
    "letra1 = \"a\"\n",
    "letra2 = \"b\""
   ]
  },
  {
   "cell_type": "markdown",
   "metadata": {},
   "source": [
    "tipos de datos"
   ]
  },
  {
   "cell_type": "code",
   "execution_count": null,
   "metadata": {},
   "outputs": [],
   "source": [
    "solesverde = False\n",
    "solesamarillo = True\n",
    "\n",
    "cantidaddecaracteres"
   ]
  },
  {
   "cell_type": "markdown",
   "metadata": {},
   "source": [
    "concatenar"
   ]
  },
  {
   "cell_type": "code",
   "execution_count": 2,
   "metadata": {},
   "outputs": [
    {
     "ename": "NameError",
     "evalue": "name 'Palabra' is not defined",
     "output_type": "error",
     "traceback": [
      "\u001b[0;31m---------------------------------------------------------------------------\u001b[0m",
      "\u001b[0;31mNameError\u001b[0m                                 Traceback (most recent call last)",
      "\u001b[1;32m/home/labdoo/Escritorio/CURSO PYTHON/dia3.ipynb Cell 6'\u001b[0m in \u001b[0;36m<cell line: 1>\u001b[0;34m()\u001b[0m\n\u001b[0;32m----> <a href='vscode-notebook-cell:/home/labdoo/Escritorio/CURSO%20PYTHON/dia3.ipynb#ch0000006?line=0'>1</a>\u001b[0m mensaje1 \u001b[39m=\u001b[39m \u001b[39m\"\u001b[39m\u001b[39mla palabra ingresada es \u001b[39m\u001b[39m\"\u001b[39m \u001b[39m+\u001b[39m Palabra\n\u001b[1;32m      <a href='vscode-notebook-cell:/home/labdoo/Escritorio/CURSO%20PYTHON/dia3.ipynb#ch0000006?line=1'>2</a>\u001b[0m \u001b[39mprint\u001b[39m(mensaje1)\n",
      "\u001b[0;31mNameError\u001b[0m: name 'Palabra' is not defined"
     ]
    }
   ],
   "source": [
    "mensaje1 = \"la palabra ingresada es \" + Palabra\n",
    "print(mensaje1)"
   ]
  },
  {
   "cell_type": "markdown",
   "metadata": {},
   "source": [
    "operadores logicos"
   ]
  },
  {
   "cell_type": "code",
   "execution_count": 3,
   "metadata": {},
   "outputs": [
    {
     "ename": "SyntaxError",
     "evalue": "invalid syntax (2981372626.py, line 3)",
     "output_type": "error",
     "traceback": [
      "\u001b[0;36m  Input \u001b[0;32mIn [3]\u001b[0;36m\u001b[0m\n\u001b[0;31m    letra_existeenlapalbra= letra1 in Palabra =\u001b[0m\n\u001b[0m                                               ^\u001b[0m\n\u001b[0;31mSyntaxError\u001b[0m\u001b[0;31m:\u001b[0m invalid syntax\n"
     ]
    }
   ],
   "source": [
    "# ==, \n",
    "letrassoniguales = letra1 == letra2\n",
    "letra_existeenlapalbra= letra1 in Palabra =\n",
    "print(letra_existeenlapalbra)"
   ]
  },
  {
   "cell_type": "markdown",
   "metadata": {},
   "source": [
    "Condicionales "
   ]
  },
  {
   "cell_type": "code",
   "execution_count": null,
   "metadata": {},
   "outputs": [],
   "source": [
    "# if true"
   ]
  },
  {
   "cell_type": "markdown",
   "metadata": {},
   "source": [
    "funciones"
   ]
  },
  {
   "cell_type": "code",
   "execution_count": null,
   "metadata": {},
   "outputs": [],
   "source": []
  },
  {
   "cell_type": "markdown",
   "metadata": {},
   "source": []
  },
  {
   "cell_type": "code",
   "execution_count": 28,
   "metadata": {},
   "outputs": [
    {
     "name": "stdout",
     "output_type": "stream",
     "text": [
      "hielo\n",
      "las letras son diferentes\n",
      "[i]\n",
      "d\n",
      "[['h', 'i', 'e', 'l', 'o']]\n",
      "[['h', 'i', 'e', 'l', 'o'], ['p', 'a', 'p', 'a']]\n",
      "[['h', 'i', 'e', 'l', 'o'], ['p', 'a', 'p', 'a'], ['f', 'a', 'c', 'h', 'a']]\n"
     ]
    }
   ],
   "source": [
    "Palabra = \"hielo\"\n",
    "palabrainsertada = input(\"Escriba una palabra \")\n",
    "# funciones\n",
    "def imprimirpalabra():\n",
    "    print(Palabra)\n",
    "imprimirpalabra()\n",
    "\n",
    "def comparaletras(a, b):\n",
    "    if a == b:\n",
    "        print(\"Las letras son iguales\")\n",
    "    else:\n",
    "        print(\"las letras son diferentes\")\n",
    "comparaletras(\"e\", \"f\")\n",
    "\n",
    "def comparapalbras(c, d):\n",
    "    palabrassoniguales = c == d\n",
    "    if palabrassoniguales:\n",
    "        return True\n",
    "    else:\n",
    "        return False\n",
    "\n",
    "\n",
    "def contieneletraono(palabra1, letra2):\n",
    "    if letra2 in palabra1:\n",
    "        return(\"[\" + letra2 + \"]\")\n",
    "\n",
    "        \n",
    "    else: \n",
    "        return letra2\n",
    "\n",
    "\n",
    "contieneletraono(\"pala\", \"p\")\n",
    "tc = contieneletraono(\"olimpia\", \"i\")\n",
    "alo = contieneletraono(\"palabra\", \"d\")\n",
    "print(tc)\n",
    "print(alo)\n",
    "\n",
    "\n",
    "def numeropalabra(palabra, numero):\n",
    "    if len(palabra) == numero:\n",
    "        return True\n",
    "    else:\n",
    "        return False\n",
    "numeropalabra(\"hola\", 4)\n",
    "\n",
    "palabrasingresadas = []\n",
    "def f1():\n",
    "    for z in range(3):\n",
    "        palabrainsertada = input(\"Escriba una palabra \")\n",
    "        palabradescompuesta = list(palabrainsertada)\n",
    "        palabrasingresadas.append(palabradescompuesta) \n",
    "        print(palabrasingresadas)\n",
    "\n"
   ]
  },
  {
   "cell_type": "code",
   "execution_count": 41,
   "metadata": {},
   "outputs": [
    {
     "name": "stdout",
     "output_type": "stream",
     "text": [
      "[]\n"
     ]
    }
   ],
   "source": [
    "palabrasingresadas1 = []\n",
    "def f1():\n",
    "    for z in range(3):\n",
    "        palabrainsertada1 = input(\"Escriba una palabra \")\n",
    "        palabradescompuesta1 = list(palabrainsertada1)\n",
    "        palabrasingresadas1.append(palabradescompuesta1) \n",
    "CL = palabrasingresadas1\n",
    "print(CL)\n"
   ]
  },
  {
   "cell_type": "code",
   "execution_count": 3,
   "metadata": {},
   "outputs": [
    {
     "name": "stdout",
     "output_type": "stream",
     "text": [
      "[['h', 'o', 'l', 'a']]\n",
      "[['h', 'o', 'l', 'a'], ['q', 'u', 'e']]\n",
      "[['h', 'o', 'l', 'a'], ['q', 'u', 'e'], ['t', 'a', 'l']]\n"
     ]
    }
   ],
   "source": [
    "palabrasingresadas = []\n",
    "def f1():\n",
    "    for z in range(3):\n",
    "        palabrainsertada = input(\"Escriba una palabra \")\n",
    "        palabradescompuesta = list(palabrainsertada)\n",
    "        palabrasingresadas.append(palabradescompuesta) \n",
    "        print(palabrasingresadas)\n",
    "\n",
    "f1()"
   ]
  },
  {
   "cell_type": "code",
   "execution_count": 9,
   "metadata": {},
   "outputs": [
    {
     "name": "stdout",
     "output_type": "stream",
     "text": [
      "['h', 'o', 'l', 'a']\n",
      "['q', 'u', 'e']\n",
      "['t', 'a', 'l']\n"
     ]
    }
   ],
   "source": [
    "\n",
    "def imprimir_grilla(lista):\n",
    "    for posicion in range(len(lista)):\n",
    "            print(lista[posicion])\n",
    "imprimir_grilla(palabrasingresadas)"
   ]
  },
  {
   "cell_type": "code",
   "execution_count": null,
   "metadata": {},
   "outputs": [],
   "source": []
  }
 ],
 "metadata": {
  "interpreter": {
   "hash": "916dbcbb3f70747c44a77c7bcd40155683ae19c65e1c03b4aa3499c5328201f1"
  },
  "kernelspec": {
   "display_name": "Python 3.8.10 64-bit",
   "language": "python",
   "name": "python3"
  },
  "language_info": {
   "codemirror_mode": {
    "name": "ipython",
    "version": 3
   },
   "file_extension": ".py",
   "mimetype": "text/x-python",
   "name": "python",
   "nbconvert_exporter": "python",
   "pygments_lexer": "ipython3",
   "version": "3.8.10"
  },
  "orig_nbformat": 4
 },
 "nbformat": 4,
 "nbformat_minor": 2
}
