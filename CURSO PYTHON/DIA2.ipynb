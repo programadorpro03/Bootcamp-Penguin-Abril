{
 "cells": [
  {
   "cell_type": "code",
   "execution_count": null,
   "metadata": {},
   "outputs": [],
   "source": []
  },
  {
   "cell_type": "markdown",
   "metadata": {},
   "source": [
    "# Condicionales"
   ]
  },
  {
   "cell_type": "code",
   "execution_count": 4,
   "metadata": {},
   "outputs": [
    {
     "name": "stdout",
     "output_type": "stream",
     "text": [
      "Activo laboralmente\n"
     ]
    }
   ],
   "source": [
    "edadlaboral  = \n",
    "if edadlaboral < 18:\n",
    "    print(\"Menor de edad\")\n",
    "elif edadlaboral > 65:\n",
    "    print(\"Jubilados\")\n",
    "else:\n",
    "    print(\"Activo laboralmente\")\n"
   ]
  },
  {
   "cell_type": "markdown",
   "metadata": {},
   "source": [
    "# Dos Condiciones a la vez"
   ]
  },
  {
   "cell_type": "code",
   "execution_count": 6,
   "metadata": {},
   "outputs": [
    {
     "name": "stdout",
     "output_type": "stream",
     "text": [
      "Jubilada\n"
     ]
    }
   ],
   "source": [
    "edadlaboral = 70\n",
    "trabaja = False # Booleano\n",
    "if edadlaboral < 18:\n",
    "    print(\"ESTUDIANTE MENOR DE EDAD\") \n",
    "elif edadlaboral < 65 and trabaja == True:\n",
    "    print(\"Activo laboralmente\")\n",
    "elif edadlaboral < 65 and trabaja == False:\n",
    "    print(\"Estudiante universitario, empresario o inversionista\")\n",
    "else:\n",
    "    print(\"Jubilada\")"
   ]
  },
  {
   "cell_type": "code",
   "execution_count": 17,
   "metadata": {},
   "outputs": [
    {
     "name": "stdout",
     "output_type": "stream",
     "text": [
      "Fresquete\n"
     ]
    }
   ],
   "source": [
    "NIVEL_DE_TEMPERATURA = int(input(\"INSERTAR NIVEL DE TEMPERATURA: \"))\n",
    "if NIVEL_DE_TEMPERATURA >= -10 and NIVEL_DE_TEMPERATURA <= 18:\n",
    "    print(\"Fresquete\")\n",
    "elif NIVEL_DE_TEMPERATURA >= 19 and NIVEL_DE_TEMPERATURA <= 30:\n",
    "    print(\"Calorsito\")\n",
    "elif NIVEL_DE_TEMPERATURA >= 31 and NIVEL_DE_TEMPERATURA <= 45:\n",
    "    print(\"Haku\")\n",
    "else:\n",
    "    print(\"nderasore\")"
   ]
  },
  {
   "cell_type": "markdown",
   "metadata": {},
   "source": [
    "# bucles condicionales: wine"
   ]
  },
  {
   "cell_type": "code",
   "execution_count": null,
   "metadata": {},
   "outputs": [],
   "source": [
    "\n",
    "while True:\n",
    "    palabra = input(\"Introduce una palabra\")\n",
    "    if palabra == \"hola\" or  palabra == \"chau\":\n",
    "        break\n",
    "    print(palabra)"
   ]
  },
  {
   "cell_type": "code",
   "execution_count": 3,
   "metadata": {},
   "outputs": [
    {
     "name": "stdout",
     "output_type": "stream",
     "text": [
      "Incorrecta\n",
      "Correcta\n"
     ]
    }
   ],
   "source": [
    "while True:\n",
    "    contrasena = input(\"Introduce una palabra\")\n",
    "    \n",
    "    if contrasena == \"octanos\":\n",
    "        print(\"Correcta\")\n",
    "        break\n",
    "    print(\"Incorrecta\") "
   ]
  },
  {
   "cell_type": "code",
   "execution_count": 1,
   "metadata": {},
   "outputs": [
    {
     "name": "stdout",
     "output_type": "stream",
     "text": [
      "contrasena incorrecta\n",
      "mbaeteko?\n"
     ]
    }
   ],
   "source": [
    "contrasena = None\n",
    "while contrasena != \"dc\":\n",
    "    contrasena = input(\"Insertar contrasena\")\n",
    "    if contrasena != \"dc\":\n",
    "        print(\"contrasena incorrecta\")\n",
    "print(\"mbaeteko?\")"
   ]
  },
  {
   "cell_type": "markdown",
   "metadata": {},
   "source": [
    "# Bucles condicionales"
   ]
  },
  {
   "cell_type": "markdown",
   "metadata": {},
   "source": [
    "## Listas"
   ]
  },
  {
   "cell_type": "code",
   "execution_count": null,
   "metadata": {},
   "outputs": [],
   "source": [
    "lista_de_frutas = [\"naranjas\", \"peras\", \"kiwis\", \"sandias\"]\n",
    "# Diferentes tipos de datos en listas\n",
    "lista_booleana = [True, False, False, True]\n",
    "lista_denumeros = [1.99, 2, 3, 4]\n",
    "listavariada = [\"peras\", 10, False]\n",
    "\n",
    "#contar elementos de una lista\n",
    "print(le(listafrutas))\n",
    "#acceder a elementos de la lista\n",
    "print(lista_de_frutas[])\n",
    "# "
   ]
  },
  {
   "cell_type": "code",
   "execution_count": 15,
   "metadata": {},
   "outputs": [
    {
     "name": "stdout",
     "output_type": "stream",
     "text": [
      "Integrante 1:  Claudia ,Integrante 2:  Mario Integrante 3:  Fabrizio\n"
     ]
    }
   ],
   "source": [
    "Listademesa= [\"Claudia\",\"Mario\", \"Fabrizio\"]\n",
    "print(\"Integrante 1: \", Listademesa[0], \",Integrante 2: \", Listademesa[1], \"Integrante 3: \", Listademesa[2])"
   ]
  },
  {
   "cell_type": "markdown",
   "metadata": {},
   "source": [
    "# Volviendo a for"
   ]
  },
  {
   "cell_type": "code",
   "execution_count": 17,
   "metadata": {},
   "outputs": [
    {
     "name": "stdout",
     "output_type": "stream",
     "text": [
      "f\n",
      "u\n",
      "l\n",
      "a\n",
      "n\n",
      "o\n"
     ]
    }
   ],
   "source": [
    "palabra = input(\"Introduzca una palabra: \")\n",
    "for letra in palabra:\n",
    "    print(letra)"
   ]
  },
  {
   "cell_type": "code",
   "execution_count": 23,
   "metadata": {},
   "outputs": [
    {
     "name": "stdout",
     "output_type": "stream",
     "text": [
      "- Pan\n",
      "- Mantequilla\n",
      "- arandanos\n"
     ]
    }
   ],
   "source": [
    "listadecompras = [\"Pan\", \"Mantequilla\", \"arandanos\"]\n",
    "for cosas in listadecompras:\n",
    "    print(\"-\", cosas)\n"
   ]
  },
  {
   "cell_type": "code",
   "execution_count": 24,
   "metadata": {},
   "outputs": [
    {
     "name": "stdout",
     "output_type": "stream",
     "text": [
      "HOLA\n",
      "HOLA\n",
      "HOLA\n"
     ]
    }
   ],
   "source": [
    "for frase in range(3):\n",
    "    print(\"HOLA\")"
   ]
  },
  {
   "cell_type": "code",
   "execution_count": 39,
   "metadata": {},
   "outputs": [
    {
     "name": "stdout",
     "output_type": "stream",
     "text": [
      "5\n"
     ]
    }
   ],
   "source": [
    "frase = input(\"Introduzca una frase: \")\n",
    "letrabuscada = input(\"Introduzca una palabra: \")\n",
    "contadorpro = 0\n",
    "for letra in frase:\n",
    "    \n",
    "    if letra == letrabuscada:\n",
    "        contadorpro = contadorpro + 1 \n",
    "print(contadorpro)"
   ]
  },
  {
   "cell_type": "markdown",
   "metadata": {},
   "source": [
    "# Proyecto: Wordle"
   ]
  },
  {
   "cell_type": "code",
   "execution_count": null,
   "metadata": {},
   "outputs": [],
   "source": []
  },
  {
   "cell_type": "code",
   "execution_count": 5,
   "metadata": {},
   "outputs": [
    {
     "name": "stdout",
     "output_type": "stream",
     "text": [
      "La primera letra es incorrecta\n",
      "La primera letra es incorrecta\n",
      "La primera letra es incorrecta\n",
      "La primera letra es incorrecta\n",
      "La segunda letra es incorrecta\n",
      "La segunda letra es incorrecta\n",
      "La segunda letra es incorrecta\n",
      "La segunda letra es incorrecta\n",
      "La tercera letra es incorrecta\n",
      "La tercera letra es incorrecta\n",
      "La tercera letra es incorrecta\n",
      "La tercera letra es incorrecta\n",
      "La cuarta letra es incorrecta\n",
      "La cuarta letra es incorrecta\n",
      "La cuarta letra es incorrecta\n",
      "La cuarta letra es correcta\n",
      "La cuarta letra es incorrecta\n",
      "La quinta letra es incorrecta\n"
     ]
    }
   ],
   "source": [
    "Palabra = \"caldo\" # tipo de dato: texto/string (str)\n",
    "letra1 = input(\"Introduzca una letra: \")\n",
    "letra2 = input(\"Introduzca una letra: \")\n",
    "letra3 = input(\"Introduzca una letra: \")\n",
    "letra4 = input(\"Introduzca una letra: \")\n",
    "letra5 = input(\"Introduzca una letra: \")\n",
    "mbae = (letra1 + letra2 + letra3 + letra4 + letra5)\n",
    "Ganador = None\n",
    "RESPUESTA = None\n",
    "RESPUESTA2 = None\n",
    "RESPUESTA3 = None\n",
    "RESPUESTA4 = None\n",
    "RESPUESTA5 = None\n",
    "for x in Palabra:\n",
    "    if x == letra1:\n",
    "        RESPUESTA = \"La primera letra es correcta\"\n",
    "        \n",
    "    else:\n",
    "        RESPUESTA = \"La primera letra es incorrecta\"\n",
    "        print(RESPUESTA)\n",
    "\n",
    "for x2 in Palabra:\n",
    "    if x2 == letra2:\n",
    "        RESPUESTA2 = \"La segunda letra es correcta\"\n",
    "        \n",
    "    else:\n",
    "        RESPUESTA2 = \"La segunda letra es incorrecta\"\n",
    "        print(RESPUESTA2)\n",
    "for x3 in Palabra:\n",
    "    if x3 == letra3:\n",
    "        RESPUESTA3 = \"La tercera letra es correcta\"\n",
    "    else:\n",
    "        RESPUESTA3 = \"La tercera letra es incorrecta\"\n",
    "        print(RESPUESTA3)\n",
    "for x4 in Palabra:\n",
    "    if x4 == letra4:\n",
    "        RESPUESTA4 = \"La cuarta letra es correcta\"\n",
    "    else:\n",
    "        RESPUESTA4 = \"La cuarta letra es incorrecta\"\n",
    "    print(RESPUESTA4)\n",
    "for x5 in Palabra:\n",
    "    if x5 == letra5:\n",
    "        RESPUESTA5 = \"La quinta letra es correcta\"\n",
    "        print(RESPUESTA2)\n",
    "    else:\n",
    "            RESPUESTA5 = \"La quinta letra es incorrecta\"\n",
    "print(RESPUESTA5)\n",
    "if mbae == Palabra:\n",
    "        Ganador = \"La palabra es correcta. Felicidades.\"\n",
    "        print(Ganador)\n",
    "else:\n",
    "        Ganador = \"Palabra incorrecta\""
   ]
  }
 ],
 "metadata": {
  "interpreter": {
   "hash": "916dbcbb3f70747c44a77c7bcd40155683ae19c65e1c03b4aa3499c5328201f1"
  },
  "kernelspec": {
   "display_name": "Python 3.8.10 64-bit",
   "language": "python",
   "name": "python3"
  },
  "language_info": {
   "codemirror_mode": {
    "name": "ipython",
    "version": 3
   },
   "file_extension": ".py",
   "mimetype": "text/x-python",
   "name": "python",
   "nbconvert_exporter": "python",
   "pygments_lexer": "ipython3",
   "version": "3.8.10"
  },
  "orig_nbformat": 4
 },
 "nbformat": 4,
 "nbformat_minor": 2
}
