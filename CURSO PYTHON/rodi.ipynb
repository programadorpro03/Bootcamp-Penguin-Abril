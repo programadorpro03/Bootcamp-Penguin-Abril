{
 "cells": [
  {
   "cell_type": "code",
   "execution_count": null,
   "metadata": {},
   "outputs": [],
   "source": []
  },
  {
   "cell_type": "code",
   "execution_count": 2,
   "metadata": {},
   "outputs": [
    {
     "ename": "AttributeError",
     "evalue": "module 'rodi' has no attribute 'RoDi'",
     "output_type": "error",
     "traceback": [
      "\u001b[0;31m---------------------------------------------------------------------------\u001b[0m",
      "\u001b[0;31mAttributeError\u001b[0m                            Traceback (most recent call last)",
      "\u001b[1;32m/home/labdoo/Escritorio/CURSO PYTHON/rodi.ipynb Cell 2'\u001b[0m in \u001b[0;36m<cell line: 4>\u001b[0;34m()\u001b[0m\n\u001b[1;32m      <a href='vscode-notebook-cell:/home/labdoo/Escritorio/CURSO%20PYTHON/rodi.ipynb#ch0000001?line=0'>1</a>\u001b[0m \u001b[39mimport\u001b[39;00m \u001b[39mrodi\u001b[39;00m\n\u001b[1;32m      <a href='vscode-notebook-cell:/home/labdoo/Escritorio/CURSO%20PYTHON/rodi.ipynb#ch0000001?line=1'>2</a>\u001b[0m \u001b[39mimport\u001b[39;00m \u001b[39mtime\u001b[39;00m\n\u001b[0;32m----> <a href='vscode-notebook-cell:/home/labdoo/Escritorio/CURSO%20PYTHON/rodi.ipynb#ch0000001?line=3'>4</a>\u001b[0m robot \u001b[39m=\u001b[39m rodi\u001b[39m.\u001b[39;49mRoDi()\n\u001b[1;32m      <a href='vscode-notebook-cell:/home/labdoo/Escritorio/CURSO%20PYTHON/rodi.ipynb#ch0000001?line=4'>5</a>\u001b[0m \u001b[39mwhile\u001b[39;00m \u001b[39mTrue\u001b[39;00m:\n\u001b[1;32m      <a href='vscode-notebook-cell:/home/labdoo/Escritorio/CURSO%20PYTHON/rodi.ipynb#ch0000001?line=5'>6</a>\u001b[0m     linea \u001b[39m=\u001b[39m robot\n",
      "\u001b[0;31mAttributeError\u001b[0m: module 'rodi' has no attribute 'RoDi'"
     ]
    }
   ],
   "source": []
  }
 ],
 "metadata": {
  "interpreter": {
   "hash": "916dbcbb3f70747c44a77c7bcd40155683ae19c65e1c03b4aa3499c5328201f1"
  },
  "kernelspec": {
   "display_name": "Python 3.8.10 64-bit",
   "language": "python",
   "name": "python3"
  },
  "language_info": {
   "codemirror_mode": {
    "name": "ipython",
    "version": 3
   },
   "file_extension": ".py",
   "mimetype": "text/x-python",
   "name": "python",
   "nbconvert_exporter": "python",
   "pygments_lexer": "ipython3",
   "version": "3.8.10"
  },
  "orig_nbformat": 4
 },
 "nbformat": 4,
 "nbformat_minor": 2
}
